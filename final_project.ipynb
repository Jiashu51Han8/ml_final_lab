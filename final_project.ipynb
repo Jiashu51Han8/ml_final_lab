{
 "cells": [
  {
   "cell_type": "markdown",
   "metadata": {},
   "source": [
    "# Final Project\n",
    "\n",
    "The world online is filled with negativity nowadays, from the comments people leave to each other online, to news that renowned agencies publish. \n",
    "\n",
    "It is very important to determine the positive news and negative news from each other. This lab tries to tackle this problem by using naive bayes to classify news as positive, or negative.\n",
    "\n"
   ]
  },
  {
   "cell_type": "markdown",
   "metadata": {},
   "source": [
    "## Required Files and Libraries:\n",
    "### Files:\n",
    "\n",
    "The files below provide the diferent stopwords and as well as they're values.\n",
    "\n",
    "<a href=\"https://drive.google.com/file/d/1OWM3xqn35Hdf04r7QwKSDbbbJ45jQaCN/view\n",
    "\">Label 1</a>\n",
    "\n",
    "<a href=\"https://drive.google.com/file/d/14JDy3NsflKCst_4nunwsC4Ehs154Otnr/view\n",
    "\">Label 2</a>\n",
    "\n",
    "### Libraries:\n",
    "\n",
    "- bs4 is (only) used for reading news.\n",
    "<!-- - the rest are commonly used libraries. -->"
   ]
  },
  {
   "cell_type": "markdown",
   "metadata": {},
   "source": [
    "## 1.1 Import required libraries"
   ]
  },
  {
   "cell_type": "code",
   "execution_count": 1,
   "metadata": {},
   "outputs": [],
   "source": [
    "import urllib\n",
    "import urllib.request\n",
    "import os\n",
    "import re\n",
    "import sys\n",
    "import string\n",
    "import unicodedata\n",
    "import getopt\n",
    "from xml.dom import minidom\n",
    "\n",
    "from bs4 import BeautifulSoup\n",
    "\n",
    "import math\n"
   ]
  },
  {
   "cell_type": "markdown",
   "metadata": {},
   "source": [
    "## 1.2 Read News\n"
   ]
  },
  {
   "cell_type": "markdown",
   "metadata": {},
   "source": [
    "\"urls\" should be a list containing links to news.\n",
    "\n",
    "\"include_urls\" should be a boolean value.\n",
    "\n",
    "\"num\" should be an integer value stating how many news article one wants.\n",
    "\n",
    "The return value is a dictionary with the key as the url to the specific news site, and value as the actual news itself, stored as a string"
   ]
  },
  {
   "cell_type": "code",
   "execution_count": 2,
   "metadata": {},
   "outputs": [],
   "source": [
    "def read_news(urls,include_urls,num):\n",
    "    searcher = re.compile(r'([a-z]+) ([a-z]+)', re.IGNORECASE)\n",
    "    count = 0\n",
    "    result={}\n",
    "    for url in urls:\n",
    "        feed = urllib.request.urlopen(url)\n",
    "        print(feed)\n",
    "        try:\n",
    "            dom = minidom.parse(feed)\n",
    "            forecasts = []\n",
    "            for node in dom.getElementsByTagName('title'):\n",
    "                txt = node.firstChild.wholeText\n",
    "#                 print(\"1\")\n",
    "                if searcher.search(txt):\n",
    "#                     print(\"2\")\n",
    "                    \n",
    "                    txt = unicodedata.normalize('NFKD', txt).encode('ascii', 'ignore')\n",
    "                    print(txt)\n",
    "                    if include_urls:\n",
    "#                         print(\"3\")\n",
    "                        p = node.parentNode\n",
    "                        link = p.getElementsByTagName('link')[0].firstChild.wholeText\n",
    "#                         print(link)\n",
    "\n",
    "                        #read\n",
    "                        page=urllib.request.urlopen(link)\n",
    "                        contents=page.read()\n",
    "                        soup=BeautifulSoup(contents,\"html.parser\")\n",
    "                        text=[]\n",
    "                        for tag in soup.find_all('p', class_='font--body font-copy gray-darkest ma-0 pb-md'):\n",
    "                            text.append(tag.get_text().strip())\n",
    "                        result[link]=text\n",
    "                        count += 1\n",
    "                        if count >=num:\n",
    "#                             print(count)\n",
    "                            return result\n",
    "                            sys.exit(0)\n",
    "        except:\n",
    "            \n",
    "            return result\n",
    "            sys.exit(1)\n",
    "    return result\n",
    "    sys.exit(0)\n"
   ]
  },
  {
   "cell_type": "code",
   "execution_count": 3,
   "metadata": {},
   "outputs": [],
   "source": [
    "links = [\"http://feeds.washingtonpost.com/rss/rss_election-2012\"]\n",
    "         \n",
    "include = True\n",
    "\n",
    "read_result=read_news(links,include,4)\n"
   ]
  },
  {
   "cell_type": "markdown",
   "metadata": {},
   "source": [
    "Below is one (key, value) pair, with value taking the first 500 letters so as to not take too much space."
   ]
  },
  {
   "cell_type": "code",
   "execution_count": 8,
   "metadata": {},
   "outputs": [
    {
     "name": "stdout",
     "output_type": "stream",
     "text": [
      "Key: \n",
      "\n",
      " https://www.washingtonpost.com/politics/electoral-college-affirms-bidens-victory-on-a-relatively-calm-day-of-a-chaotic-election/2020/12/14/0994b232-3e48-11eb-9453-fc36ba051781_story.html?\n",
      "\n",
      "Value: \n",
      " \n",
      " President-elect Joe Biden achieved formal victory over President Trump on Monday, winning his 306 votes in the electoral college and advancing one more step toward inauguration even as die-hard Trump supporters redoubled their efforts to stop the normal transfer of power.Electors gathered in every state and the District of Columbia for a day-long series of votes that delivered no surprises for either Trump or Biden. The proceedings harked back to more typical presidential elections and stood in \n"
     ]
    }
   ],
   "source": [
    "for i in read_result.keys():\n",
    "    print(\"Key: \\n\\n\",i)\n",
    "    print(\"\\nValue: \\n \\n\",read_result[i][0][:500]) #list at 0, first 500 letters\n",
    "    break"
   ]
  },
  {
   "cell_type": "markdown",
   "metadata": {},
   "source": [
    "## 1.2 Process news"
   ]
  },
  {
   "cell_type": "markdown",
   "metadata": {},
   "source": [
    "### 1.2.1 Process news using stanford sentiment treebank"
   ]
  },
  {
   "cell_type": "code",
   "execution_count": 9,
   "metadata": {},
   "outputs": [],
   "source": [
    "ci_score= {}\n",
    "negative_word={}\n",
    "positive_word={}\n",
    "stop_word=[]\n",
    "stop_word.append(\"\")"
   ]
  },
  {
   "cell_type": "code",
   "execution_count": 10,
   "metadata": {},
   "outputs": [],
   "source": [
    "with open('./stanfordSentimentTreebank/dictionary.txt')as f:\n",
    "    ci={}\n",
    "    for line in f:\n",
    "        line=line.strip().split('|')\n",
    "        ci[line[0]]=int(line[1])\n",
    "        "
   ]
  },
  {
   "cell_type": "code",
   "execution_count": 11,
   "metadata": {},
   "outputs": [],
   "source": [
    "score=open('./stanfordSentimentTreebank/sentiment_labels.txt')\n",
    "score_read=score.readline()\n",
    "score_read=score.readline().strip().split(\"|\")\n",
    "while score_read[0]!='':\n",
    "    ci_score[int(score_read[0])]=float(score_read[1])\n",
    "    score_read=score.readline().strip().split(\"|\")\n"
   ]
  },
  {
   "cell_type": "code",
   "execution_count": 12,
   "metadata": {},
   "outputs": [],
   "source": [
    "for key in ci.keys():\n",
    "    if ci_score[ci[key]]<=0.2:\n",
    "        negative_word[key.lower()]=1-ci_score[ci[key]]\n",
    "    if ci_score[ci[key]]<=0.4 and ci_score[ci[key]]>0.2:\n",
    "        negative_word[key.lower()] = 1 - ci_score[ci[key]]\n",
    "    if ci_score[ci[key]]<=0.6 and ci_score[ci[key]]>0.4:\n",
    "        stop_word.append(key.lower())\n",
    "    if ci_score[ci[key]]<=0.8 and ci_score[ci[key]]>0.6:\n",
    "        positive_word[key.lower()] = ci_score[ci[key]]\n",
    "    if ci_score[ci[key]]<=1 and ci_score[ci[key]]>0.8:\n",
    "        positive_word[key.lower()] = ci_score[ci[key]]"
   ]
  },
  {
   "cell_type": "code",
   "execution_count": 13,
   "metadata": {},
   "outputs": [],
   "source": [
    "for key in negative_word.keys():\n",
    "    negative_word[key]=negative_word[key]*(1.0/len(negative_word))*(len(negative_word)/(len(negative_word) + len(positive_word)))\n",
    "for key in positive_word.keys():\n",
    "    positive_word[key]=positive_word[key]*(1.0/len(positive_word))*(len(positive_word)/(len(negative_word) + len(positive_word)))\n"
   ]
  },
  {
   "cell_type": "markdown",
   "metadata": {},
   "source": [
    "one (key, value) pair of negative_word, as well as one (key,value) pair of positive_word"
   ]
  },
  {
   "cell_type": "code",
   "execution_count": 14,
   "metadata": {},
   "outputs": [
    {
     "name": "stdout",
     "output_type": "stream",
     "text": [
      "Negative Key: \n",
      "\n",
      " ! oh , look at that clever angle ! wow , a jump cut !\n",
      "\n",
      "Negative Value: \n",
      " \n",
      " 6.108963568848701e-06\n",
      "\n",
      "--------\n",
      "--------\n",
      "\n",
      "Positive Key: \n",
      "\n",
      " ! brilliant\n",
      "\n",
      "Positive Value: \n",
      " \n",
      " 7.283777268382633e-06\n"
     ]
    }
   ],
   "source": [
    "for i in negative_word.keys():\n",
    "    print(\"Negative Key: \\n\\n\",i)\n",
    "    print(\"\\nNegative Value: \\n \\n\",negative_word[i]) \n",
    "    break\n",
    "    \n",
    "\n",
    "print()\n",
    "print(\"--------\")\n",
    "print(\"--------\")\n",
    "print()\n",
    "\n",
    "for i in positive_word.keys():\n",
    "    print(\"Positive Key: \\n\\n\",i)\n",
    "    print(\"\\nPositive Value: \\n \\n\",positive_word[i]) \n",
    "    break\n"
   ]
  },
  {
   "cell_type": "markdown",
   "metadata": {},
   "source": [
    "### 1.2.2 Process News using moody_news"
   ]
  },
  {
   "cell_type": "code",
   "execution_count": 15,
   "metadata": {},
   "outputs": [],
   "source": [
    "positive_dic={}\n",
    "negative_dic={}\n",
    "stop_word=[]\n"
   ]
  },
  {
   "cell_type": "code",
   "execution_count": 16,
   "metadata": {},
   "outputs": [],
   "source": [
    "with open('positive-words.txt')as f:\n",
    "    for line in f:\n",
    "        line=line.strip()\n",
    "        positive_dic[line]=0\n",
    "with open('negative-words.txt')as f:\n",
    "    for line in f:\n",
    "        line=line.strip()\n",
    "        negative_dic[line]=0\n",
    "with open('stopwords.txt')as f:\n",
    "    for line in f:\n",
    "        stop_word.append(line)\n",
    "stop_word.append(\"\")"
   ]
  },
  {
   "cell_type": "code",
   "execution_count": 17,
   "metadata": {},
   "outputs": [],
   "source": [
    "for positive in positive_dic.keys():\n",
    "    positive_dic[positive]=1.0/(len(positive_dic))*len(positive_dic)/(len(positive_dic)+len(negative_dic))\n",
    "for negative in negative_dic.keys():\n",
    "    negative_dic[negative]=1.0/(len(negative_dic))*len(negative_dic)/(len(positive_dic)+len(negative_dic))"
   ]
  },
  {
   "cell_type": "markdown",
   "metadata": {},
   "source": [
    "Again, below is a sample (key, value) pair of negative_dic and positive_dic."
   ]
  },
  {
   "cell_type": "code",
   "execution_count": 18,
   "metadata": {},
   "outputs": [
    {
     "name": "stdout",
     "output_type": "stream",
     "text": [
      "Negative Key: \n",
      "\n",
      " 2-faced\n",
      "\n",
      "Negative Value: \n",
      " \n",
      " 0.00014729709824716454\n",
      "\n",
      "--------\n",
      "--------\n",
      "\n",
      "Positive Key: \n",
      "\n",
      " abound\n",
      "\n",
      "Positive Value: \n",
      " \n",
      " 0.0001472970982471645\n"
     ]
    }
   ],
   "source": [
    "for i in negative_dic.keys():\n",
    "    print(\"Negative Key: \\n\\n\",i)\n",
    "    print(\"\\nNegative Value: \\n \\n\",negative_dic[i]) \n",
    "    break\n",
    "    \n",
    "\n",
    "print()\n",
    "print(\"--------\")\n",
    "print(\"--------\")\n",
    "print()\n",
    "\n",
    "for i in positive_dic.keys():\n",
    "    print(\"Positive Key: \\n\\n\",i)\n",
    "    print(\"\\nPositive Value: \\n \\n\",positive_dic[i]) \n",
    "    break\n"
   ]
  },
  {
   "cell_type": "markdown",
   "metadata": {},
   "source": [
    "## 1.3 Naive Bayes Algorithm"
   ]
  },
  {
   "cell_type": "markdown",
   "metadata": {},
   "source": [
    "The bayes below takes in a text, a positive dictionary and a negative dictionary, and a calP\n",
    "\n",
    "The \"text\" should be a dictionary, with key as the link, and value as the article itself.\n",
    "\n",
    "Positive and negative dictionaries should be the dictionaries above.\n",
    "\n",
    "calP will be specified, and will have small changes depending on the type of positive/negative dictionary used."
   ]
  },
  {
   "cell_type": "code",
   "execution_count": 19,
   "metadata": {},
   "outputs": [],
   "source": [
    "def bayes(text,pos,neg,cal):\n",
    "    pGood = cal(text,pos)\n",
    "    pBad = cal(text,neg)\n",
    "    print(\"Good: \",pGood)\n",
    "    print(\"Bad: \",pBad)\n",
    "    if pGood >= pBad:\n",
    "        print(\"positive\")\n",
    "    else:\n",
    "        print(\"negative\")"
   ]
  },
  {
   "cell_type": "markdown",
   "metadata": {},
   "source": [
    "### 1.3.1 Stanford Sentiment Treebank"
   ]
  },
  {
   "cell_type": "markdown",
   "metadata": {},
   "source": [
    "calPSt takes in the result from above, as well as one dictionary.\n",
    "\n",
    "The dictionary can be the positive dictionary or the negative dictionary.\n"
   ]
  },
  {
   "cell_type": "code",
   "execution_count": 20,
   "metadata": {},
   "outputs": [],
   "source": [
    "def calPSt(word_list,traning_dic):\n",
    "    p_list = []\n",
    "    for word in word_list:\n",
    "        word = word.strip().lower()\n",
    "        if word in traning_dic:\n",
    "            p_list.append(str(traning_dic[word]))\n",
    "        elif len(word.split(' '))>1:\n",
    "            pattern = r',|\\.|/|;|\\'|`|\\[|\\]|<|>|\\?|:|\"|\\{|\\}|\\~|!|@|#|\\$|%|\\^|&|\\(|\\)|-|=|\\_|\\+|，|。|、|；|‘|’|【|】|·|！| |…|（|）'\n",
    "            result_list = re.split(pattern, word)\n",
    "            word_list_nostop = []\n",
    "            for j in result_list:\n",
    "                if j in stop_word:\n",
    "                    pass\n",
    "                else:\n",
    "                    word_list_nostop.append(j)\n",
    "#             print(word_list_nostop)\n",
    "            for i in word_list_nostop:\n",
    "                if i in traning_dic:\n",
    "                    p_list.append(str(traning_dic[i]))\n",
    "        else:\n",
    "            p_list.append(str(0.5*(1.0+len(traning_dic) / (len(negative_word) + len(positive_word))+2)))\n",
    "    # 计算P\n",
    "    p_index = 0\n",
    "    for p in p_list:\n",
    "        p = math.log(float(p), 2)\n",
    "        p_index = p_index + p\n",
    "    return -p_index"
   ]
  },
  {
   "cell_type": "code",
   "execution_count": 21,
   "metadata": {},
   "outputs": [
    {
     "name": "stdout",
     "output_type": "stream",
     "text": [
      "https://www.washingtonpost.com/politics/electoral-college-affirms-bidens-victory-on-a-relatively-calm-day-of-a-chaotic-election/2020/12/14/0994b232-3e48-11eb-9453-fc36ba051781_story.html?\n",
      "Good:  1851.1048044417578\n",
      "Bad:  957.1979672016964\n",
      "positive\n",
      "https://www.washingtonpost.com/politics/2020/12/16/joe-biden-trump-transition-live-updates/\n",
      "Good:  1606.1498147227567\n",
      "Bad:  576.0873684681163\n",
      "positive\n",
      " https://www.washingtonpost.com/politics/electoral-college-affirms-bidens-victory-on-a-relatively-calm-day-of-a-chaotic-election/2020/12/14/0994b232-3e48-11eb-9453-fc36ba051781_story.html?utm_source=rss&utm_medium=referral&utm_campaign=wp_politics\n",
      "Good:  1956.3014890895881\n",
      "Bad:  992.3212616336838\n",
      "positive\n",
      "https://www.washingtonpost.com/politics/biden-mcconnell-senate-georgia/2020/12/16/72919d6a-3e5a-11eb-9453-fc36ba051781_story.html?utm_source=rss&utm_medium=referral&utm_campaign=wp_politics\n",
      "Good:  1413.762833585449\n",
      "Bad:  748.9360236424741\n",
      "positive\n"
     ]
    }
   ],
   "source": [
    "for i in read_result.keys():\n",
    "    print(i)\n",
    "    bayes(read_result[i],positive_word,negative_word,calPSt)"
   ]
  },
  {
   "cell_type": "markdown",
   "metadata": {},
   "source": [
    "### 1.3.2 Moody_news"
   ]
  },
  {
   "cell_type": "code",
   "execution_count": 22,
   "metadata": {},
   "outputs": [],
   "source": [
    "def calPMood(word_list,traning_dic):\n",
    "    p_list = []\n",
    "    for word in word_list:\n",
    "        word = word.strip().lower()\n",
    "        pattern = r',|\\.|/|;|\\'|`|\\[|\\]|<|>|\\?|:|\"|\\{|\\}|\\~|!|@|#|\\$|%|\\^|&|\\(|\\)|-|=|\\_|\\+|，|。|、|；|‘|’|【|】|·|！| |…|（|）'\n",
    "        result_list = re.split(pattern, word)\n",
    "        word_list_nostop = []\n",
    "        for j in result_list:\n",
    "            if j in stop_word:\n",
    "                pass\n",
    "            else:\n",
    "                word_list_nostop.append(j)\n",
    "        # print(word_list_nostop)\n",
    "        for text_word in word_list_nostop:\n",
    "            if text_word in traning_dic:\n",
    "                    p_list.append(str(traning_dic[text_word]))\n",
    "            else:\n",
    "                p_list.append(str(1.0+len(traning_dic) / (len(positive_dic) + len(negative_dic))+1))\n",
    "    # 计算P\n",
    "    p_index = 0\n",
    "    for p in p_list:\n",
    "        p = math.log(float(p), 2)\n",
    "        p_index = p_index + p\n",
    "    return -p_index"
   ]
  },
  {
   "cell_type": "code",
   "execution_count": 23,
   "metadata": {},
   "outputs": [
    {
     "name": "stdout",
     "output_type": "stream",
     "text": [
      "https://www.washingtonpost.com/politics/electoral-college-affirms-bidens-victory-on-a-relatively-calm-day-of-a-chaotic-election/2020/12/14/0994b232-3e48-11eb-9453-fc36ba051781_story.html?\n",
      "Good:  -4401.6438426119275\n",
      "Bad:  -5080.2259042719725\n",
      "positive\n",
      "https://www.washingtonpost.com/politics/2020/12/16/joe-biden-trump-transition-live-updates/\n",
      "Good:  -3620.92247590893\n",
      "Bad:  -4525.122280744154\n",
      "positive\n",
      " https://www.washingtonpost.com/politics/electoral-college-affirms-bidens-victory-on-a-relatively-calm-day-of-a-chaotic-election/2020/12/14/0994b232-3e48-11eb-9453-fc36ba051781_story.html?utm_source=rss&utm_medium=referral&utm_campaign=wp_politics\n",
      "Good:  -4659.487242883224\n",
      "Bad:  -5399.07759846886\n",
      "positive\n",
      "https://www.washingtonpost.com/politics/biden-mcconnell-senate-georgia/2020/12/16/72919d6a-3e5a-11eb-9453-fc36ba051781_story.html?utm_source=rss&utm_medium=referral&utm_campaign=wp_politics\n",
      "Good:  -4204.546830114422\n",
      "Bad:  -4650.0095973136995\n",
      "positive\n"
     ]
    }
   ],
   "source": [
    "for i in read_result.keys():\n",
    "    print(i)\n",
    "    bayes(read_result[i],positive_word,negative_word,calPMood)\n",
    "\n"
   ]
  },
  {
   "cell_type": "markdown",
   "metadata": {},
   "source": [
    "As these are news, I paid the $1 to read the news, account available from December 10 to around January 10 \n",
    "\n",
    "username: jhan18@simons-rock.edu\n",
    "\n",
    "password: ILikePotatoes\n",
    "\n",
    "In my opinion:\n",
    "\n",
    "1. https://www.washingtonpost.com/politics/electoral-college-affirms-bidens-victory-on-a-relatively-calm-day-of-a-chaotic-election/2020/12/14/0994b232-3e48-11eb-9453-fc36ba051781_story.html?utm_source=rss&utm_medium=referral&utm_campaign=wp_politics \n",
    "\n",
    "is positive news\n",
    "\n",
    "2. https://www.washingtonpost.com/politics/2020/12/16/joe-biden-trump-transition-live-updates/?utm_source=rss&utm_medium=referral&utm_campaign=wp_politics\n",
    "\n",
    "I feel like this is positive news as well, as it mentions how Binden is trying to rebuild the nation.\n",
    "\n",
    "3. https://www.washingtonpost.com/politics/biden-mcconnell-senate-georgia/2020/12/16/72919d6a-3e5a-11eb-9453-fc36ba051781_story.html?utm_source=rss&utm_medium=referral&utm_campaign=wp_politics\n",
    "\n",
    "I feel that this is a positive article, it did not say how they loved Biden, but they gave many voices that people loved Biden. So it is implying that Biden is a good president.\n",
    "\n",
    "4. https://www.washingtonpost.com/local/obituaries/james-flug-who-helped-block-nixon-nominees-and-investigated-watergate-dies-at-81/2020/12/15/a14a59e0-3eea-11eb-8bc0-ae155bee4aff_story.html?utm_source=rss&utm_medium=referral&utm_campaign=wp_politics\n",
    "\n",
    "I think that the news itself is a negative article, it is saying that a really famous and loved person died at the age of 81.\n",
    "\n",
    "But at the same time, I understand how the NB algorithm classified it as positive, because inside the article, it contained a lot of words of people loving him and praising him.\n",
    "\n"
   ]
  }
 ],
 "metadata": {
  "kernelspec": {
   "display_name": "Python 3",
   "language": "python",
   "name": "python3"
  },
  "language_info": {
   "codemirror_mode": {
    "name": "ipython",
    "version": 3
   },
   "file_extension": ".py",
   "mimetype": "text/x-python",
   "name": "python",
   "nbconvert_exporter": "python",
   "pygments_lexer": "ipython3",
   "version": "3.6.12"
  }
 },
 "nbformat": 4,
 "nbformat_minor": 4
}
